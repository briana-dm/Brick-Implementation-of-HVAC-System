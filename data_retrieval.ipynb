{
 "cells": [
  {
   "cell_type": "markdown",
   "metadata": {},
   "source": [
    "#  Using a Brick Model for Data Retrieval"
   ]
  },
  {
   "cell_type": "markdown",
   "metadata": {},
   "source": [
    "### Setup\n",
    "\n",
    "Import packages and load the relevant ontology"
   ]
  },
  {
   "cell_type": "code",
   "execution_count": 4,
   "metadata": {},
   "outputs": [],
   "source": [
    "# Packages\n",
    "import matplotlib.pyplot as plt\n",
    "import pandas as pd\n",
    "import brickschema\n",
    "import rdflib\n",
    "from analysis import sparql_to_df, missing_values, timeseries_plot\n",
    "\n",
    "# Specify the path to the Brick model. Load the model into a graph (already contains prefixs, so don't need to specify these).\n",
    "model_path = \"./ttl_files/example_compiled_bldg.ttl\"\n",
    "graph = brickschema.Graph().load_file(model_path)"
   ]
  },
  {
   "cell_type": "markdown",
   "metadata": {},
   "source": [
    "### QUERY\n",
    "Write your SPARQL query below:\n",
    "- please refer to the id of the sensor as ?sensorid\n",
    "- please refer to the unit of the sensor as ?unit"
   ]
  },
  {
   "cell_type": "code",
   "execution_count": 5,
   "metadata": {},
   "outputs": [],
   "source": [
    "# This query looks for any power sensors related to a chiller\n",
    "query = \"\"\"\n",
    "SELECT DISTINCT ?chiller ?sensor ?sensorid ?unit ?dblocation WHERE {\n",
    "    ?chiller a brick:Chiller .\n",
    "    ?chiller brick:hasPoint ?sensor .\n",
    "    ?sensor a brick:Electrical_Power_Sensor ;\n",
    "        brick:timeseries [ brick:hasTimeseriesId ?sensorid ; brick:storedAt ?db] ;\n",
    "        brick:hasUnit ?unit .\n",
    "    ?db brick:connString ?dblocation\n",
    "} \n",
    "\"\"\"\n",
    "\n",
    "# metadata and timeseries data \n",
    "metadata, timeseries = sparql_to_df(graph, query)"
   ]
  },
  {
   "cell_type": "markdown",
   "metadata": {},
   "source": []
  },
  {
   "cell_type": "markdown",
   "metadata": {},
   "source": [
    "    Metadata"
   ]
  },
  {
   "cell_type": "code",
   "execution_count": 6,
   "metadata": {},
   "outputs": [
    {
     "data": {
      "text/html": [
       "<div>\n",
       "<style scoped>\n",
       "    .dataframe tbody tr th:only-of-type {\n",
       "        vertical-align: middle;\n",
       "    }\n",
       "\n",
       "    .dataframe tbody tr th {\n",
       "        vertical-align: top;\n",
       "    }\n",
       "\n",
       "    .dataframe thead th {\n",
       "        text-align: right;\n",
       "    }\n",
       "</style>\n",
       "<table border=\"1\" class=\"dataframe\">\n",
       "  <thead>\n",
       "    <tr style=\"text-align: right;\">\n",
       "      <th></th>\n",
       "      <th>chiller</th>\n",
       "      <th>sensor</th>\n",
       "      <th>unit</th>\n",
       "      <th>dblocation</th>\n",
       "    </tr>\n",
       "    <tr>\n",
       "      <th>sensorid</th>\n",
       "      <th></th>\n",
       "      <th></th>\n",
       "      <th></th>\n",
       "      <th></th>\n",
       "    </tr>\n",
       "  </thead>\n",
       "  <tbody>\n",
       "    <tr>\n",
       "      <th>CH0_PWR</th>\n",
       "      <td>Chiller_0</td>\n",
       "      <td>Chiller_0_Power_Sensor</td>\n",
       "      <td>KiloW</td>\n",
       "      <td>./csv_files/example_timeseries.csv</td>\n",
       "    </tr>\n",
       "    <tr>\n",
       "      <th>CH1_PWR</th>\n",
       "      <td>Chiller_1</td>\n",
       "      <td>Chiller_1_Power_Sensor</td>\n",
       "      <td>KiloW</td>\n",
       "      <td>./csv_files/example_timeseries.csv</td>\n",
       "    </tr>\n",
       "    <tr>\n",
       "      <th>CH2_PWR</th>\n",
       "      <td>Chiller_2</td>\n",
       "      <td>Chiller_2_Power_Sensor</td>\n",
       "      <td>KiloW</td>\n",
       "      <td>./csv_files/example_timeseries.csv</td>\n",
       "    </tr>\n",
       "    <tr>\n",
       "      <th>CH3_PWR</th>\n",
       "      <td>Chiller_3</td>\n",
       "      <td>Chiller_3_Power_Sensor</td>\n",
       "      <td>KiloW</td>\n",
       "      <td>./csv_files/example_timeseries.csv</td>\n",
       "    </tr>\n",
       "    <tr>\n",
       "      <th>CH4_PWR</th>\n",
       "      <td>Chiller_4</td>\n",
       "      <td>Chiller_4_Power_Sensor</td>\n",
       "      <td>KiloW</td>\n",
       "      <td>./csv_files/example_timeseries.csv</td>\n",
       "    </tr>\n",
       "  </tbody>\n",
       "</table>\n",
       "</div>"
      ],
      "text/plain": [
       "            chiller                  sensor   unit  \\\n",
       "sensorid                                             \n",
       "CH0_PWR   Chiller_0  Chiller_0_Power_Sensor  KiloW   \n",
       "CH1_PWR   Chiller_1  Chiller_1_Power_Sensor  KiloW   \n",
       "CH2_PWR   Chiller_2  Chiller_2_Power_Sensor  KiloW   \n",
       "CH3_PWR   Chiller_3  Chiller_3_Power_Sensor  KiloW   \n",
       "CH4_PWR   Chiller_4  Chiller_4_Power_Sensor  KiloW   \n",
       "\n",
       "                                  dblocation  \n",
       "sensorid                                      \n",
       "CH0_PWR   ./csv_files/example_timeseries.csv  \n",
       "CH1_PWR   ./csv_files/example_timeseries.csv  \n",
       "CH2_PWR   ./csv_files/example_timeseries.csv  \n",
       "CH3_PWR   ./csv_files/example_timeseries.csv  \n",
       "CH4_PWR   ./csv_files/example_timeseries.csv  "
      ]
     },
     "execution_count": 6,
     "metadata": {},
     "output_type": "execute_result"
    }
   ],
   "source": [
    "metadata.head()"
   ]
  },
  {
   "cell_type": "markdown",
   "metadata": {},
   "source": [
    "    Timeseries Data"
   ]
  },
  {
   "cell_type": "code",
   "execution_count": 7,
   "metadata": {},
   "outputs": [
    {
     "data": {
      "text/html": [
       "<div>\n",
       "<style scoped>\n",
       "    .dataframe tbody tr th:only-of-type {\n",
       "        vertical-align: middle;\n",
       "    }\n",
       "\n",
       "    .dataframe tbody tr th {\n",
       "        vertical-align: top;\n",
       "    }\n",
       "\n",
       "    .dataframe thead th {\n",
       "        text-align: right;\n",
       "    }\n",
       "</style>\n",
       "<table border=\"1\" class=\"dataframe\">\n",
       "  <thead>\n",
       "    <tr style=\"text-align: right;\">\n",
       "      <th></th>\n",
       "      <th>CH0_PWR</th>\n",
       "      <th>CH1_PWR</th>\n",
       "      <th>CH2_PWR</th>\n",
       "      <th>CH3_PWR</th>\n",
       "      <th>CH4_PWR</th>\n",
       "      <th>CH5_PWR</th>\n",
       "      <th>CH6_PWR</th>\n",
       "      <th>CH7_PWR</th>\n",
       "    </tr>\n",
       "    <tr>\n",
       "      <th>DATETIME</th>\n",
       "      <th></th>\n",
       "      <th></th>\n",
       "      <th></th>\n",
       "      <th></th>\n",
       "      <th></th>\n",
       "      <th></th>\n",
       "      <th></th>\n",
       "      <th></th>\n",
       "    </tr>\n",
       "  </thead>\n",
       "  <tbody>\n",
       "    <tr>\n",
       "      <th>2022-10-10 08:00:00</th>\n",
       "      <td>634</td>\n",
       "      <td>699</td>\n",
       "      <td>647</td>\n",
       "      <td>644</td>\n",
       "      <td>679</td>\n",
       "      <td>NaN</td>\n",
       "      <td>NaN</td>\n",
       "      <td>NaN</td>\n",
       "    </tr>\n",
       "    <tr>\n",
       "      <th>2022-10-10 08:01:00</th>\n",
       "      <td>642</td>\n",
       "      <td>686</td>\n",
       "      <td>625</td>\n",
       "      <td>698</td>\n",
       "      <td>688</td>\n",
       "      <td>NaN</td>\n",
       "      <td>NaN</td>\n",
       "      <td>NaN</td>\n",
       "    </tr>\n",
       "    <tr>\n",
       "      <th>2022-10-10 08:02:00</th>\n",
       "      <td>680</td>\n",
       "      <td>630</td>\n",
       "      <td>680</td>\n",
       "      <td>693</td>\n",
       "      <td>637</td>\n",
       "      <td>NaN</td>\n",
       "      <td>NaN</td>\n",
       "      <td>NaN</td>\n",
       "    </tr>\n",
       "    <tr>\n",
       "      <th>2022-10-10 08:03:00</th>\n",
       "      <td>673</td>\n",
       "      <td>667</td>\n",
       "      <td>671</td>\n",
       "      <td>697</td>\n",
       "      <td>610</td>\n",
       "      <td>NaN</td>\n",
       "      <td>NaN</td>\n",
       "      <td>NaN</td>\n",
       "    </tr>\n",
       "    <tr>\n",
       "      <th>2022-10-10 08:04:00</th>\n",
       "      <td>669</td>\n",
       "      <td>666</td>\n",
       "      <td>677</td>\n",
       "      <td>655</td>\n",
       "      <td>701</td>\n",
       "      <td>NaN</td>\n",
       "      <td>NaN</td>\n",
       "      <td>NaN</td>\n",
       "    </tr>\n",
       "  </tbody>\n",
       "</table>\n",
       "</div>"
      ],
      "text/plain": [
       "                     CH0_PWR  CH1_PWR  CH2_PWR  CH3_PWR  CH4_PWR  CH5_PWR  \\\n",
       "DATETIME                                                                    \n",
       "2022-10-10 08:00:00      634      699      647      644      679      NaN   \n",
       "2022-10-10 08:01:00      642      686      625      698      688      NaN   \n",
       "2022-10-10 08:02:00      680      630      680      693      637      NaN   \n",
       "2022-10-10 08:03:00      673      667      671      697      610      NaN   \n",
       "2022-10-10 08:04:00      669      666      677      655      701      NaN   \n",
       "\n",
       "                     CH6_PWR  CH7_PWR  \n",
       "DATETIME                               \n",
       "2022-10-10 08:00:00      NaN      NaN  \n",
       "2022-10-10 08:01:00      NaN      NaN  \n",
       "2022-10-10 08:02:00      NaN      NaN  \n",
       "2022-10-10 08:03:00      NaN      NaN  \n",
       "2022-10-10 08:04:00      NaN      NaN  "
      ]
     },
     "execution_count": 7,
     "metadata": {},
     "output_type": "execute_result"
    }
   ],
   "source": [
    "timeseries.head()"
   ]
  },
  {
   "cell_type": "markdown",
   "metadata": {},
   "source": [
    "At this point, the building data has been retrieved. Notice the query to retrieve the data did not require any knowledge of how the data was represented. "
   ]
  },
  {
   "cell_type": "markdown",
   "metadata": {},
   "source": [
    "### Visualize\n",
    "\n",
    "Just as an example, we can graph the timeseries data\n",
    "\n",
    "- use function timeseries_plot(timeseries, metadata, sensors, timeslice)\n",
    "- inputs: timeseries and metadata as pandas dataframe, a list of sensors, timeslice as a tuple (YY-MM-DD HH-MM-SS, YY-MM-DD HH-MM-SS)\n"
   ]
  },
  {
   "cell_type": "code",
   "execution_count": 8,
   "metadata": {},
   "outputs": [
    {
     "data": {
      "image/png": "[encoded data removed]",
      "text/plain": [
       "<Figure size 640x480 with 1 Axes>"
      ]
     },
     "metadata": {},
     "output_type": "display_data"
    }
   ],
   "source": [
    "# timeslice = ('2021-05-11 08:04:00', '2021-05-11 9:00:00')\n",
    "sensors = ['CH0_PWR', \"CH1_PWR\"]\n",
    "\n",
    "timeseries_plot(timeseries, metadata, sensors)"
   ]
  },
  {
   "cell_type": "markdown",
   "metadata": {},
   "source": [
    "### Data Validation\n",
    "\n",
    "    Is the dataset empty?"
   ]
  },
  {
   "cell_type": "code",
   "execution_count": 9,
   "metadata": {},
   "outputs": [
    {
     "name": "stdout",
     "output_type": "stream",
     "text": [
      "The timeseries data has 8 columns. \n",
      "3 of these have missing values.\n"
     ]
    },
    {
     "data": {
      "text/html": [
       "<div>\n",
       "<style scoped>\n",
       "    .dataframe tbody tr th:only-of-type {\n",
       "        vertical-align: middle;\n",
       "    }\n",
       "\n",
       "    .dataframe tbody tr th {\n",
       "        vertical-align: top;\n",
       "    }\n",
       "\n",
       "    .dataframe thead th {\n",
       "        text-align: right;\n",
       "    }\n",
       "</style>\n",
       "<table border=\"1\" class=\"dataframe\">\n",
       "  <thead>\n",
       "    <tr style=\"text-align: right;\">\n",
       "      <th></th>\n",
       "      <th>N. of Missing Values</th>\n",
       "      <th>% of Values Missing</th>\n",
       "    </tr>\n",
       "  </thead>\n",
       "  <tbody>\n",
       "    <tr>\n",
       "      <th>CH5_PWR</th>\n",
       "      <td>1244</td>\n",
       "      <td>100.0</td>\n",
       "    </tr>\n",
       "    <tr>\n",
       "      <th>CH6_PWR</th>\n",
       "      <td>1244</td>\n",
       "      <td>100.0</td>\n",
       "    </tr>\n",
       "    <tr>\n",
       "      <th>CH7_PWR</th>\n",
       "      <td>1244</td>\n",
       "      <td>100.0</td>\n",
       "    </tr>\n",
       "  </tbody>\n",
       "</table>\n",
       "</div>"
      ],
      "text/plain": [
       "         N. of Missing Values  % of Values Missing\n",
       "CH5_PWR                  1244                100.0\n",
       "CH6_PWR                  1244                100.0\n",
       "CH7_PWR                  1244                100.0"
      ]
     },
     "execution_count": 9,
     "metadata": {},
     "output_type": "execute_result"
    }
   ],
   "source": [
    "missing_values(timeseries)"
   ]
  },
  {
   "cell_type": "markdown",
   "metadata": {},
   "source": [
    "### Possible Queries\n",
    "\n",
    "    Chiller On/Off Status"
   ]
  },
  {
   "cell_type": "code",
   "execution_count": 10,
   "metadata": {},
   "outputs": [],
   "source": [
    "q = \"\"\"\n",
    "SELECT DISTINCT ?chiller ?status ?id WHERE {\n",
    "    ?chiller a brick:Chiller .\n",
    "    ?chiller brick:hasPoint ?status .\n",
    "    ?status a brick:On_Off_Status ;\n",
    "        brick:timeseries [ brick:hasTimeseriesId ?id ] .\n",
    "} \n",
    "\"\"\""
   ]
  },
  {
   "cell_type": "code",
   "execution_count": null,
   "metadata": {},
   "outputs": [],
   "source": []
  }
 ],
 "metadata": {
  "kernelspec": {
   "display_name": "Python 3.10.6 ('brick_env')",
   "language": "python",
   "name": "python3"
  },
  "language_info": {
   "codemirror_mode": {
    "name": "ipython",
    "version": 3
   },
   "file_extension": ".py",
   "mimetype": "text/x-python",
   "name": "python",
   "nbconvert_exporter": "python",
   "pygments_lexer": "ipython3",
   "version": "3.10.6"
  },
  "orig_nbformat": 4,
  "vscode": {
   "interpreter": {
    "hash": "9fe7cbbad75d2e5620a335ce0b8e043af71b5983d784c1b22c9b2556d2f500a8"
   }
  }
 },
 "nbformat": 4,
 "nbformat_minor": 2
}
